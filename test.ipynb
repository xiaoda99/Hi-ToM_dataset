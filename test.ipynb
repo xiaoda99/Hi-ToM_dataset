{
 "cells": [
  {
   "cell_type": "code",
   "execution_count": 1,
   "id": "c8120f4a",
   "metadata": {},
   "outputs": [],
   "source": [
    "%load_ext autoreload\n",
    "%autoreload 2\n",
    "\n",
    "from IPython.core.interactiveshell import InteractiveShell\n",
    "InteractiveShell.ast_node_interactivity = 'all'"
   ]
  },
  {
   "cell_type": "code",
   "execution_count": 76,
   "id": "b12e0080",
   "metadata": {},
   "outputs": [],
   "source": [
    "os.environ[\"OPENROUTER_API_KEY\"] = \"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\""
   ]
  },
  {
   "cell_type": "code",
   "execution_count": 77,
   "id": "81f207a8",
   "metadata": {},
   "outputs": [
    {
     "data": {
      "text/plain": [
       "'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'"
      ]
     },
     "execution_count": 77,
     "metadata": {},
     "output_type": "execute_result"
    }
   ],
   "source": [
    "os.environ[\"OPENROUTER_API_KEY\"]"
   ]
  },
  {
   "cell_type": "code",
   "execution_count": 156,
   "id": "d81515d6",
   "metadata": {},
   "outputs": [
    {
     "data": {
      "text/plain": [
       "['google/gemini-2.5-flash-preview-09-2025',\n",
       " 'google/gemini-2.5-flash-lite-preview-09-2025',\n",
       " 'google/gemini-2.5-flash-image-preview',\n",
       " 'google/gemini-2.5-flash-lite',\n",
       " 'google/gemma-3n-e2b-it:free',\n",
       " 'google/gemini-2.5-flash-lite-preview-06-17',\n",
       " 'google/gemini-2.5-flash',\n",
       " 'google/gemini-2.5-pro',\n",
       " 'google/gemini-2.5-pro-preview',\n",
       " 'google/gemma-3n-e4b-it:free',\n",
       " 'google/gemma-3n-e4b-it',\n",
       " 'google/gemini-2.5-pro-preview-05-06',\n",
       " 'google/gemma-3-4b-it:free',\n",
       " 'google/gemma-3-4b-it',\n",
       " 'google/gemma-3-12b-it:free',\n",
       " 'google/gemma-3-12b-it',\n",
       " 'google/gemma-3-27b-it:free',\n",
       " 'google/gemma-3-27b-it',\n",
       " 'google/gemini-2.0-flash-lite-001',\n",
       " 'google/gemini-2.0-flash-001',\n",
       " 'google/gemini-2.0-flash-exp:free',\n",
       " 'google/gemma-2-27b-it',\n",
       " 'google/gemma-2-9b-it:free',\n",
       " 'google/gemma-2-9b-it']"
      ]
     },
     "execution_count": 156,
     "metadata": {},
     "output_type": "execute_result"
    }
   ],
   "source": [
    "import requests\n",
    "url = \"https://openrouter.ai/api/v1/models\"\n",
    "response = requests.get(url)\n",
    "d = response.json()['data']\n",
    "[i['id'] for i in d if i['id'].startswith('google')]"
   ]
  },
  {
   "cell_type": "code",
   "execution_count": 157,
   "id": "0a1488de",
   "metadata": {},
   "outputs": [],
   "source": [
    "import os\n",
    "import json\n",
    "import re\n",
    "import pandas as pd\n",
    "from typing import Set, List\n",
    "from copy import deepcopy\n",
    "from min_tom import *\n",
    "from eval import *"
   ]
  },
  {
   "cell_type": "code",
   "execution_count": 178,
   "id": "b7ea5075",
   "metadata": {},
   "outputs": [
    {
     "name": "stdout",
     "output_type": "stream",
     "text": [
      "\n",
      "break at step 31/40\n",
      "Story 0: 42 QA items, 0 peeks, 0 distractions.\n",
      "Evaluating 42 QAs with model anthropic/claude-sonnet-4 (max_workers=10)...\n"
     ]
    },
    {
     "name": "stderr",
     "output_type": "stream",
     "text": [
      "Evaluating anthropic/claude-sonnet-4: 100%|██████████████████████████████████████████████████████████████████████████████████████████████████| 42/42 [00:12<00:00,  3.29QA/s]\n"
     ]
    },
    {
     "name": "stdout",
     "output_type": "stream",
     "text": [
      "Evaluating 42 QAs with model anthropic/claude-sonnet-4.5 (max_workers=10)...\n"
     ]
    },
    {
     "name": "stderr",
     "output_type": "stream",
     "text": [
      "Evaluating anthropic/claude-sonnet-4.5: 100%|████████████████████████████████████████████████████████████████████████████████████████████████| 42/42 [00:13<00:00,  3.16QA/s]\n"
     ]
    },
    {
     "name": "stdout",
     "output_type": "stream",
     "text": [
      "Evaluating 42 QAs with model anthropic/claude-opus-4.1 (max_workers=10)...\n"
     ]
    },
    {
     "name": "stderr",
     "output_type": "stream",
     "text": [
      "Evaluating anthropic/claude-opus-4.1: 100%|██████████████████████████████████████████████████████████████████████████████████████████████████| 42/42 [00:18<00:00,  2.33QA/s]\n"
     ]
    }
   ],
   "source": [
    "models=[\n",
    "    'anthropic/claude-sonnet-4', \n",
    "    'anthropic/claude-sonnet-4.5', \n",
    "    'anthropic/claude-opus-4.1', \n",
    "    # 'openai/gpt-5',\n",
    "    # 'google/gemini-2.5-pro',\n",
    "]\n",
    "agents=['Sally','Anne','Emma',]# 'Benjamin', 'Aiden', 'Isabella']\n",
    "rooms = {\n",
    "    'kitchen': {'objects': ['ball'], 'containers': ['cabinet','drawer']},\n",
    "    'room': {'objects': ['marble', 'ball'], 'containers': ['basket','box', 'cabinet']},\n",
    "}\n",
    "def engine_factory(story_id):\n",
    "    return Engine(agents=agents, rooms=rooms, seed=story_id + 100,\n",
    "        peek_prob=0., distracted_prob=0., exit_without_move_prob=0.2, allow_other_actions=True)\n",
    "# story, results = run_evaluation(engine, steps=10, models=models, sleep=0.5*0, max_workers=10)\n",
    "df = run_evaluations(engine_factory, num_stories=1, steps=10, models=models, max_workers=10)"
   ]
  },
  {
   "cell_type": "code",
   "execution_count": null,
   "id": "c7b2c0e3",
   "metadata": {},
   "outputs": [
    {
     "data": {
      "text/plain": [
       "model                        qa_order\n",
       "anthropic/claude-opus-4.1    1           0.807692\n",
       "                             2           0.692308\n",
       "anthropic/claude-sonnet-4    1           0.807692\n",
       "                             2           0.538462\n",
       "anthropic/claude-sonnet-4.5  1           0.730769\n",
       "                             2           0.641026\n",
       "Name: is_correct, dtype: float64"
      ]
     },
     "execution_count": 149,
     "metadata": {},
     "output_type": "execute_result"
    }
   ],
   "source": [
    "df.groupby([\"model\", \"qa_order\"]).is_correct.mean()  # non-reasoning models"
   ]
  },
  {
   "cell_type": "code",
   "execution_count": 153,
   "id": "0cd747d5",
   "metadata": {},
   "outputs": [
    {
     "data": {
      "text/html": [
       "<div>\n",
       "<style scoped>\n",
       "    .dataframe tbody tr th:only-of-type {\n",
       "        vertical-align: middle;\n",
       "    }\n",
       "\n",
       "    .dataframe tbody tr th {\n",
       "        vertical-align: top;\n",
       "    }\n",
       "\n",
       "    .dataframe thead th {\n",
       "        text-align: right;\n",
       "    }\n",
       "</style>\n",
       "<table border=\"1\" class=\"dataframe\">\n",
       "  <thead>\n",
       "    <tr style=\"text-align: right;\">\n",
       "      <th></th>\n",
       "      <th>story_question</th>\n",
       "      <th>is_correct_mean</th>\n",
       "      <th>qa_order</th>\n",
       "      <th>n_peeks</th>\n",
       "      <th>n_distractions</th>\n",
       "    </tr>\n",
       "  </thead>\n",
       "  <tbody>\n",
       "    <tr>\n",
       "      <th>54</th>\n",
       "      <td>8 | Where does Sally think Emma thinks the mar...</td>\n",
       "      <td>0.000000</td>\n",
       "      <td>2</td>\n",
       "      <td>3</td>\n",
       "      <td>1</td>\n",
       "    </tr>\n",
       "    <tr>\n",
       "      <th>62</th>\n",
       "      <td>9 | Where does Sally think Anne thinks the mar...</td>\n",
       "      <td>0.000000</td>\n",
       "      <td>2</td>\n",
       "      <td>2</td>\n",
       "      <td>2</td>\n",
       "    </tr>\n",
       "    <tr>\n",
       "      <th>36</th>\n",
       "      <td>5 | Where does Sally think the marble is?</td>\n",
       "      <td>0.000000</td>\n",
       "      <td>1</td>\n",
       "      <td>1</td>\n",
       "      <td>0</td>\n",
       "    </tr>\n",
       "    <tr>\n",
       "      <th>35</th>\n",
       "      <td>5 | Where does Sally think Anne thinks the mar...</td>\n",
       "      <td>0.000000</td>\n",
       "      <td>2</td>\n",
       "      <td>1</td>\n",
       "      <td>0</td>\n",
       "    </tr>\n",
       "    <tr>\n",
       "      <th>56</th>\n",
       "      <td>9 | Where does Anne think Emma thinks the marb...</td>\n",
       "      <td>0.000000</td>\n",
       "      <td>2</td>\n",
       "      <td>2</td>\n",
       "      <td>2</td>\n",
       "    </tr>\n",
       "    <tr>\n",
       "      <th>63</th>\n",
       "      <td>9 | Where does Sally think Emma thinks the mar...</td>\n",
       "      <td>0.000000</td>\n",
       "      <td>2</td>\n",
       "      <td>2</td>\n",
       "      <td>2</td>\n",
       "    </tr>\n",
       "    <tr>\n",
       "      <th>6</th>\n",
       "      <td>1 | Where does Anne think the marble is?</td>\n",
       "      <td>0.000000</td>\n",
       "      <td>1</td>\n",
       "      <td>1</td>\n",
       "      <td>1</td>\n",
       "    </tr>\n",
       "    <tr>\n",
       "      <th>30</th>\n",
       "      <td>5 | Where does Anne think Sally thinks the mar...</td>\n",
       "      <td>0.000000</td>\n",
       "      <td>2</td>\n",
       "      <td>1</td>\n",
       "      <td>0</td>\n",
       "    </tr>\n",
       "    <tr>\n",
       "      <th>17</th>\n",
       "      <td>2 | Where does Emma think the marble is?</td>\n",
       "      <td>0.000000</td>\n",
       "      <td>1</td>\n",
       "      <td>1</td>\n",
       "      <td>1</td>\n",
       "    </tr>\n",
       "    <tr>\n",
       "      <th>24</th>\n",
       "      <td>3 | Where does Emma think the marble is?</td>\n",
       "      <td>0.000000</td>\n",
       "      <td>1</td>\n",
       "      <td>0</td>\n",
       "      <td>0</td>\n",
       "    </tr>\n",
       "    <tr>\n",
       "      <th>53</th>\n",
       "      <td>8 | Where does Sally think Anne thinks the mar...</td>\n",
       "      <td>0.000000</td>\n",
       "      <td>2</td>\n",
       "      <td>3</td>\n",
       "      <td>1</td>\n",
       "    </tr>\n",
       "    <tr>\n",
       "      <th>21</th>\n",
       "      <td>3 | Where does Anne think Emma thinks the marb...</td>\n",
       "      <td>0.000000</td>\n",
       "      <td>2</td>\n",
       "      <td>0</td>\n",
       "      <td>0</td>\n",
       "    </tr>\n",
       "    <tr>\n",
       "      <th>32</th>\n",
       "      <td>5 | Where does Emma think Anne thinks the marb...</td>\n",
       "      <td>0.333333</td>\n",
       "      <td>2</td>\n",
       "      <td>1</td>\n",
       "      <td>0</td>\n",
       "    </tr>\n",
       "    <tr>\n",
       "      <th>51</th>\n",
       "      <td>8 | Where does Emma think Sally thinks the mar...</td>\n",
       "      <td>0.333333</td>\n",
       "      <td>2</td>\n",
       "      <td>3</td>\n",
       "      <td>1</td>\n",
       "    </tr>\n",
       "    <tr>\n",
       "      <th>33</th>\n",
       "      <td>5 | Where does Emma think Sally thinks the mar...</td>\n",
       "      <td>0.333333</td>\n",
       "      <td>2</td>\n",
       "      <td>1</td>\n",
       "      <td>0</td>\n",
       "    </tr>\n",
       "    <tr>\n",
       "      <th>19</th>\n",
       "      <td>2 | Where does Sally think Emma thinks the mar...</td>\n",
       "      <td>0.333333</td>\n",
       "      <td>2</td>\n",
       "      <td>1</td>\n",
       "      <td>1</td>\n",
       "    </tr>\n",
       "    <tr>\n",
       "      <th>50</th>\n",
       "      <td>8 | Where does Emma think Anne thinks the marb...</td>\n",
       "      <td>0.333333</td>\n",
       "      <td>2</td>\n",
       "      <td>3</td>\n",
       "      <td>1</td>\n",
       "    </tr>\n",
       "    <tr>\n",
       "      <th>20</th>\n",
       "      <td>2 | Where does Sally think the marble is?</td>\n",
       "      <td>0.333333</td>\n",
       "      <td>1</td>\n",
       "      <td>1</td>\n",
       "      <td>1</td>\n",
       "    </tr>\n",
       "    <tr>\n",
       "      <th>7</th>\n",
       "      <td>1 | Where does Emma think Anne thinks the marb...</td>\n",
       "      <td>0.333333</td>\n",
       "      <td>2</td>\n",
       "      <td>1</td>\n",
       "      <td>1</td>\n",
       "    </tr>\n",
       "    <tr>\n",
       "      <th>13</th>\n",
       "      <td>2 | Where does Anne think Emma thinks the marb...</td>\n",
       "      <td>0.666667</td>\n",
       "      <td>2</td>\n",
       "      <td>1</td>\n",
       "      <td>1</td>\n",
       "    </tr>\n",
       "  </tbody>\n",
       "</table>\n",
       "</div>"
      ],
      "text/plain": [
       "                                       story_question  is_correct_mean  \\\n",
       "54  8 | Where does Sally think Emma thinks the mar...         0.000000   \n",
       "62  9 | Where does Sally think Anne thinks the mar...         0.000000   \n",
       "36          5 | Where does Sally think the marble is?         0.000000   \n",
       "35  5 | Where does Sally think Anne thinks the mar...         0.000000   \n",
       "56  9 | Where does Anne think Emma thinks the marb...         0.000000   \n",
       "63  9 | Where does Sally think Emma thinks the mar...         0.000000   \n",
       "6            1 | Where does Anne think the marble is?         0.000000   \n",
       "30  5 | Where does Anne think Sally thinks the mar...         0.000000   \n",
       "17           2 | Where does Emma think the marble is?         0.000000   \n",
       "24           3 | Where does Emma think the marble is?         0.000000   \n",
       "53  8 | Where does Sally think Anne thinks the mar...         0.000000   \n",
       "21  3 | Where does Anne think Emma thinks the marb...         0.000000   \n",
       "32  5 | Where does Emma think Anne thinks the marb...         0.333333   \n",
       "51  8 | Where does Emma think Sally thinks the mar...         0.333333   \n",
       "33  5 | Where does Emma think Sally thinks the mar...         0.333333   \n",
       "19  2 | Where does Sally think Emma thinks the mar...         0.333333   \n",
       "50  8 | Where does Emma think Anne thinks the marb...         0.333333   \n",
       "20          2 | Where does Sally think the marble is?         0.333333   \n",
       "7   1 | Where does Emma think Anne thinks the marb...         0.333333   \n",
       "13  2 | Where does Anne think Emma thinks the marb...         0.666667   \n",
       "\n",
       "    qa_order  n_peeks  n_distractions  \n",
       "54         2        3               1  \n",
       "62         2        2               2  \n",
       "36         1        1               0  \n",
       "35         2        1               0  \n",
       "56         2        2               2  \n",
       "63         2        2               2  \n",
       "6          1        1               1  \n",
       "30         2        1               0  \n",
       "17         1        1               1  \n",
       "24         1        0               0  \n",
       "53         2        3               1  \n",
       "21         2        0               0  \n",
       "32         2        1               0  \n",
       "51         2        3               1  \n",
       "33         2        1               0  \n",
       "19         2        1               1  \n",
       "50         2        3               1  \n",
       "20         1        1               1  \n",
       "7          2        1               1  \n",
       "13         2        1               1  "
      ]
     },
     "execution_count": 153,
     "metadata": {},
     "output_type": "execute_result"
    }
   ],
   "source": [
    "(\n",
    "    df.assign(story_question=df[\"story_id\"].astype(str) + \" | \" + df[\"question\"])\n",
    "      .groupby(\"story_question\", as_index=False)\n",
    "      .agg(\n",
    "          is_correct_mean=(\"is_correct\", \"mean\"),\n",
    "          qa_order=(\"qa_order\", \"first\"),\n",
    "          n_peeks=(\"n_peeks\", \"first\"),\n",
    "          n_distractions=(\"n_distractions\", \"first\"),\n",
    "      )\n",
    "      .sort_values(\"is_correct_mean\")\n",
    "      .head(20)\n",
    ")"
   ]
  },
  {
   "cell_type": "code",
   "execution_count": null,
   "id": "23352e67",
   "metadata": {},
   "outputs": [
    {
     "data": {
      "text/plain": [
       "story_question\n",
       "8 | Where does Sally think Emma thinks the marble is?    0.0\n",
       "9 | Where does Sally think Anne thinks the marble is?    0.0\n",
       "5 | Where does Sally think the marble is?                0.0\n",
       "5 | Where does Sally think Anne thinks the marble is?    0.0\n",
       "9 | Where does Anne think Emma thinks the marble is?     0.0\n",
       "9 | Where does Sally think Emma thinks the marble is?    0.0\n",
       "1 | Where does Anne think the marble is?                 0.0\n",
       "5 | Where does Anne think Sally thinks the marble is?    0.0\n",
       "2 | Where does Emma think the marble is?                 0.0\n",
       "3 | Where does Emma think the marble is?                 0.0\n",
       "Name: is_correct, dtype: float64"
      ]
     },
     "execution_count": 150,
     "metadata": {},
     "output_type": "execute_result"
    }
   ],
   "source": [
    "df.assign(story_question=df[\"story_id\"].astype(str) + \" | \" + df[\"question\"]) \\\n",
    "  .groupby(\"story_question\").is_correct.mean().sort_values(ascending=True).head(10)"
   ]
  },
  {
   "cell_type": "code",
   "execution_count": 179,
   "id": "27028f66",
   "metadata": {},
   "outputs": [
    {
     "data": {
      "text/plain": [
       "model                        qa_order\n",
       "anthropic/claude-opus-4.1    1           0.70000\n",
       "                             2           0.28125\n",
       "anthropic/claude-sonnet-4    1           0.50000\n",
       "                             2           0.25000\n",
       "anthropic/claude-sonnet-4.5  1           0.60000\n",
       "                             2           0.37500\n",
       "Name: is_correct, dtype: float64"
      ]
     },
     "execution_count": 179,
     "metadata": {},
     "output_type": "execute_result"
    }
   ],
   "source": [
    "df.groupby([\"model\", \"qa_order\"]).is_correct.mean()  # long story (steps=40) w/o peek/distraction, non-reasoning models"
   ]
  },
  {
   "cell_type": "code",
   "execution_count": null,
   "id": "a291497a",
   "metadata": {},
   "outputs": [
    {
     "data": {
      "text/plain": [
       "model                        qa_order\n",
       "anthropic/claude-sonnet-4.5  1           0.666667\n",
       "                             2           0.291667\n",
       "google/gemini-2.5-pro        1           1.000000\n",
       "                             2           0.937500\n",
       "openai/gpt-5                 1           1.000000\n",
       "                             2           0.916667\n",
       "Name: is_correct, dtype: float64"
      ]
     },
     "metadata": {},
     "output_type": "display_data"
    }
   ],
   "source": [
    "df.groupby([\"model\", \"qa_order\"]).is_correct.mean()  # long story (steps=30), reasoning models except claude-sonnet-4.5"
   ]
  },
  {
   "cell_type": "code",
   "execution_count": null,
   "id": "41a11bb7",
   "metadata": {},
   "outputs": [
    {
     "data": {
      "text/plain": [
       "model                        qa_order\n",
       "anthropic/claude-opus-4.1    1           0.923077\n",
       "                             2           0.794872\n",
       "anthropic/claude-sonnet-4.5  1           1.000000\n",
       "                             2           0.923077\n",
       "openai/gpt-5                 1           1.000000\n",
       "                             2           0.974359\n",
       "Name: is_correct, dtype: float64"
      ]
     },
     "metadata": {},
     "output_type": "display_data"
    }
   ],
   "source": [
    "df.groupby([\"model\", \"qa_order\"]).is_correct.mean()  # reasoning models"
   ]
  },
  {
   "cell_type": "code",
   "execution_count": 155,
   "id": "f46d3fc4",
   "metadata": {},
   "outputs": [
    {
     "name": "stdout",
     "output_type": "stream",
     "text": [
      "Emma entered the room.\n",
      "Anne entered the room.\n",
      "Emma put the marble into the basket.\n",
      "Anne moved the marble to the box.\n",
      "Sally entered the room.\n",
      "Emma exited the room.\n",
      "Anne exited the room.\n",
      "Sally exited the room.\n"
     ]
    },
    {
     "data": {
      "text/plain": [
       "[MoveEvent(observers=Set({Observer(name='Emma', actual=True, perceived_by_others=True), Observer(name='Anne', actual=True, perceived_by_others=True)}), room='room', agent='Emma', object='marble', container='basket'),\n",
       " MoveEvent(observers=Set({Observer(name='Emma', actual=True, perceived_by_others=True), Observer(name='Anne', actual=True, perceived_by_others=True)}), room='room', agent='Anne', object='marble', container='box')]"
      ]
     },
     "execution_count": 155,
     "metadata": {},
     "output_type": "execute_result"
    },
    {
     "data": {
      "text/html": [
       "<div>\n",
       "<style scoped>\n",
       "    .dataframe tbody tr th:only-of-type {\n",
       "        vertical-align: middle;\n",
       "    }\n",
       "\n",
       "    .dataframe tbody tr th {\n",
       "        vertical-align: top;\n",
       "    }\n",
       "\n",
       "    .dataframe thead th {\n",
       "        text-align: right;\n",
       "    }\n",
       "</style>\n",
       "<table border=\"1\" class=\"dataframe\">\n",
       "  <thead>\n",
       "    <tr style=\"text-align: right;\">\n",
       "      <th></th>\n",
       "      <th>seed</th>\n",
       "      <th>story_id</th>\n",
       "      <th>story_text</th>\n",
       "      <th>model</th>\n",
       "      <th>story_steps</th>\n",
       "      <th>n_events</th>\n",
       "      <th>events</th>\n",
       "      <th>n_peeks</th>\n",
       "      <th>n_distractions</th>\n",
       "      <th>qa_order</th>\n",
       "      <th>qa_object</th>\n",
       "      <th>question</th>\n",
       "      <th>expected</th>\n",
       "      <th>answer</th>\n",
       "      <th>is_correct</th>\n",
       "      <th>latency_sec</th>\n",
       "      <th>retries</th>\n",
       "    </tr>\n",
       "  </thead>\n",
       "  <tbody>\n",
       "    <tr>\n",
       "      <th>22</th>\n",
       "      <td>103</td>\n",
       "      <td>3</td>\n",
       "      <td>Emma entered the room.\\nAnne entered the room....</td>\n",
       "      <td>anthropic/claude-sonnet-4</td>\n",
       "      <td>10</td>\n",
       "      <td>2</td>\n",
       "      <td>[MoveEvent(observers=Set({Observer(name='Emma'...</td>\n",
       "      <td>0</td>\n",
       "      <td>0</td>\n",
       "      <td>2</td>\n",
       "      <td>marble</td>\n",
       "      <td>Where does Anne think Emma thinks the marble is?</td>\n",
       "      <td>box</td>\n",
       "      <td>In the basket.</td>\n",
       "      <td>False</td>\n",
       "      <td>2.516307</td>\n",
       "      <td>0</td>\n",
       "    </tr>\n",
       "    <tr>\n",
       "      <th>82</th>\n",
       "      <td>103</td>\n",
       "      <td>3</td>\n",
       "      <td>Emma entered the room.\\nAnne entered the room....</td>\n",
       "      <td>anthropic/claude-sonnet-4.5</td>\n",
       "      <td>10</td>\n",
       "      <td>2</td>\n",
       "      <td>[MoveEvent(observers=Set({Observer(name='Emma'...</td>\n",
       "      <td>0</td>\n",
       "      <td>0</td>\n",
       "      <td>2</td>\n",
       "      <td>marble</td>\n",
       "      <td>Where does Anne think Emma thinks the marble is?</td>\n",
       "      <td>box</td>\n",
       "      <td>basket</td>\n",
       "      <td>False</td>\n",
       "      <td>2.955589</td>\n",
       "      <td>0</td>\n",
       "    </tr>\n",
       "    <tr>\n",
       "      <th>157</th>\n",
       "      <td>103</td>\n",
       "      <td>3</td>\n",
       "      <td>Emma entered the room.\\nAnne entered the room....</td>\n",
       "      <td>anthropic/claude-opus-4.1</td>\n",
       "      <td>10</td>\n",
       "      <td>2</td>\n",
       "      <td>[MoveEvent(observers=Set({Observer(name='Emma'...</td>\n",
       "      <td>0</td>\n",
       "      <td>0</td>\n",
       "      <td>2</td>\n",
       "      <td>marble</td>\n",
       "      <td>Where does Anne think Emma thinks the marble is?</td>\n",
       "      <td>box</td>\n",
       "      <td>In the basket</td>\n",
       "      <td>False</td>\n",
       "      <td>6.226905</td>\n",
       "      <td>0</td>\n",
       "    </tr>\n",
       "  </tbody>\n",
       "</table>\n",
       "</div>"
      ],
      "text/plain": [
       "     seed  story_id                                         story_text  \\\n",
       "22    103         3  Emma entered the room.\\nAnne entered the room....   \n",
       "82    103         3  Emma entered the room.\\nAnne entered the room....   \n",
       "157   103         3  Emma entered the room.\\nAnne entered the room....   \n",
       "\n",
       "                           model  story_steps  n_events  \\\n",
       "22     anthropic/claude-sonnet-4           10         2   \n",
       "82   anthropic/claude-sonnet-4.5           10         2   \n",
       "157    anthropic/claude-opus-4.1           10         2   \n",
       "\n",
       "                                                events  n_peeks  \\\n",
       "22   [MoveEvent(observers=Set({Observer(name='Emma'...        0   \n",
       "82   [MoveEvent(observers=Set({Observer(name='Emma'...        0   \n",
       "157  [MoveEvent(observers=Set({Observer(name='Emma'...        0   \n",
       "\n",
       "     n_distractions  qa_order qa_object  \\\n",
       "22                0         2    marble   \n",
       "82                0         2    marble   \n",
       "157               0         2    marble   \n",
       "\n",
       "                                             question expected  \\\n",
       "22   Where does Anne think Emma thinks the marble is?      box   \n",
       "82   Where does Anne think Emma thinks the marble is?      box   \n",
       "157  Where does Anne think Emma thinks the marble is?      box   \n",
       "\n",
       "             answer  is_correct  latency_sec  retries  \n",
       "22   In the basket.       False     2.516307        0  \n",
       "82           basket       False     2.955589        0  \n",
       "157   In the basket       False     6.226905        0  "
      ]
     },
     "execution_count": 155,
     "metadata": {},
     "output_type": "execute_result"
    }
   ],
   "source": [
    "story_id = 3\n",
    "row = df[df['story_id'] == story_id].head(1)\n",
    "print(row['story_text'].iloc[0]); row['events'].iloc[0]\n",
    "df[(df['story_id'] == story_id) & (df['question'] == 'Where does Anne think Emma thinks the marble is?')]"
   ]
  },
  {
   "cell_type": "code",
   "execution_count": 100,
   "id": "e292142e",
   "metadata": {},
   "outputs": [
    {
     "data": {
      "text/plain": [
       "story_question\n",
       "4 | Where does Sally think the marble is?                0.00\n",
       "4 | Where does Sally think Emma thinks the marble is?    0.00\n",
       "4 | Where does Sally think Anne thinks the marble is?    0.00\n",
       "6 | Where does Sally think Emma thinks the marble is?    0.25\n",
       "8 | Where does Emma think Sally thinks the marble is?    0.25\n",
       "1 | Where does Anne think Emma thinks the marble is?     0.25\n",
       "4 | Where does Emma think Anne thinks the marble is?     0.25\n",
       "7 | Where does Sally think the marble is?                0.25\n",
       "9 | Where does Emma think the marble is?                 0.50\n",
       "6 | Where does Sally think Anne thinks the marble is?    0.50\n",
       "Name: is_correct, dtype: float64"
      ]
     },
     "execution_count": 100,
     "metadata": {},
     "output_type": "execute_result"
    }
   ],
   "source": [
    "# df.groupby([\"model\", \"qa_order\"]).is_correct.mean()\n",
    "# df.groupby([\"n_peeks\", \"n_distractions\"]).is_correct.mean()\n",
    "df.assign(story_question=df[\"story_id\"].astype(str) + \" | \" + df[\"question\"]) \\\n",
    "  .groupby(\"story_question\").is_correct.mean().sort_values(ascending=True).head(10)"
   ]
  },
  {
   "cell_type": "code",
   "execution_count": 113,
   "id": "8f14565e",
   "metadata": {},
   "outputs": [
    {
     "name": "stdout",
     "output_type": "stream",
     "text": [
      "Emma entered the room.\n",
      "Anne entered the room.\n",
      "Emma put the marble into the basket.\n",
      "As Anne, unnoticed by anyone, briefly got distracted and missed what happened, Emma moved the marble to the box.\n",
      "Anne exited the room.\n",
      "Emma exited the room.\n",
      "Sally entered the room.\n"
     ]
    }
   ],
   "source": [
    "print(df[df['story_id'] == 4].head(1)['story_text'].iloc[0])"
   ]
  },
  {
   "cell_type": "code",
   "execution_count": 121,
   "id": "fee59491",
   "metadata": {},
   "outputs": [
    {
     "data": {
      "text/html": [
       "<div>\n",
       "<style scoped>\n",
       "    .dataframe tbody tr th:only-of-type {\n",
       "        vertical-align: middle;\n",
       "    }\n",
       "\n",
       "    .dataframe tbody tr th {\n",
       "        vertical-align: top;\n",
       "    }\n",
       "\n",
       "    .dataframe thead th {\n",
       "        text-align: right;\n",
       "    }\n",
       "</style>\n",
       "<table border=\"1\" class=\"dataframe\">\n",
       "  <thead>\n",
       "    <tr style=\"text-align: right;\">\n",
       "      <th></th>\n",
       "      <th>story_id</th>\n",
       "      <th>story_text</th>\n",
       "      <th>model</th>\n",
       "      <th>story_steps</th>\n",
       "      <th>n_events</th>\n",
       "      <th>n_peeks</th>\n",
       "      <th>n_distractions</th>\n",
       "      <th>qa_order</th>\n",
       "      <th>qa_object</th>\n",
       "      <th>question</th>\n",
       "      <th>expected</th>\n",
       "      <th>answer</th>\n",
       "      <th>is_correct</th>\n",
       "      <th>latency_sec</th>\n",
       "      <th>retries</th>\n",
       "    </tr>\n",
       "  </thead>\n",
       "  <tbody>\n",
       "    <tr>\n",
       "      <th>59</th>\n",
       "      <td>4</td>\n",
       "      <td>Emma entered the room.\\nAnne entered the room....</td>\n",
       "      <td>anthropic/claude-sonnet-4</td>\n",
       "      <td>10</td>\n",
       "      <td>2</td>\n",
       "      <td>1</td>\n",
       "      <td>2</td>\n",
       "      <td>1</td>\n",
       "      <td>marble</td>\n",
       "      <td>Where does Sally think the marble is?</td>\n",
       "      <td>basket</td>\n",
       "      <td>Unknown</td>\n",
       "      <td>False</td>\n",
       "      <td>12.343179</td>\n",
       "      <td>0</td>\n",
       "    </tr>\n",
       "    <tr>\n",
       "      <th>80</th>\n",
       "      <td>4</td>\n",
       "      <td>Emma entered the room.\\nAnne entered the room....</td>\n",
       "      <td>anthropic/claude-sonnet-4.5</td>\n",
       "      <td>10</td>\n",
       "      <td>2</td>\n",
       "      <td>1</td>\n",
       "      <td>2</td>\n",
       "      <td>1</td>\n",
       "      <td>marble</td>\n",
       "      <td>Where does Sally think the marble is?</td>\n",
       "      <td>basket</td>\n",
       "      <td>Unknown</td>\n",
       "      <td>False</td>\n",
       "      <td>1.927029</td>\n",
       "      <td>0</td>\n",
       "    </tr>\n",
       "    <tr>\n",
       "      <th>139</th>\n",
       "      <td>4</td>\n",
       "      <td>Emma entered the room.\\nAnne entered the room....</td>\n",
       "      <td>anthropic/claude-opus-4.1</td>\n",
       "      <td>10</td>\n",
       "      <td>2</td>\n",
       "      <td>1</td>\n",
       "      <td>2</td>\n",
       "      <td>1</td>\n",
       "      <td>marble</td>\n",
       "      <td>Where does Sally think the marble is?</td>\n",
       "      <td>basket</td>\n",
       "      <td>Unknown</td>\n",
       "      <td>False</td>\n",
       "      <td>2.619453</td>\n",
       "      <td>0</td>\n",
       "    </tr>\n",
       "    <tr>\n",
       "      <th>203</th>\n",
       "      <td>4</td>\n",
       "      <td>Emma entered the room.\\nAnne entered the room....</td>\n",
       "      <td>openai/gpt-5</td>\n",
       "      <td>10</td>\n",
       "      <td>2</td>\n",
       "      <td>1</td>\n",
       "      <td>2</td>\n",
       "      <td>1</td>\n",
       "      <td>marble</td>\n",
       "      <td>Where does Sally think the marble is?</td>\n",
       "      <td>basket</td>\n",
       "      <td>Unknown</td>\n",
       "      <td>False</td>\n",
       "      <td>9.037114</td>\n",
       "      <td>0</td>\n",
       "    </tr>\n",
       "  </tbody>\n",
       "</table>\n",
       "</div>"
      ],
      "text/plain": [
       "     story_id                                         story_text  \\\n",
       "59          4  Emma entered the room.\\nAnne entered the room....   \n",
       "80          4  Emma entered the room.\\nAnne entered the room....   \n",
       "139         4  Emma entered the room.\\nAnne entered the room....   \n",
       "203         4  Emma entered the room.\\nAnne entered the room....   \n",
       "\n",
       "                           model  story_steps  n_events  n_peeks  \\\n",
       "59     anthropic/claude-sonnet-4           10         2        1   \n",
       "80   anthropic/claude-sonnet-4.5           10         2        1   \n",
       "139    anthropic/claude-opus-4.1           10         2        1   \n",
       "203                 openai/gpt-5           10         2        1   \n",
       "\n",
       "     n_distractions  qa_order qa_object  \\\n",
       "59                2         1    marble   \n",
       "80                2         1    marble   \n",
       "139               2         1    marble   \n",
       "203               2         1    marble   \n",
       "\n",
       "                                  question expected   answer  is_correct  \\\n",
       "59   Where does Sally think the marble is?   basket  Unknown       False   \n",
       "80   Where does Sally think the marble is?   basket  Unknown       False   \n",
       "139  Where does Sally think the marble is?   basket  Unknown       False   \n",
       "203  Where does Sally think the marble is?   basket  Unknown       False   \n",
       "\n",
       "     latency_sec  retries  \n",
       "59     12.343179        0  \n",
       "80      1.927029        0  \n",
       "139     2.619453        0  \n",
       "203     9.037114        0  "
      ]
     },
     "execution_count": 121,
     "metadata": {},
     "output_type": "execute_result"
    }
   ],
   "source": [
    "df[(df['story_id'] == 4) & (df['question'] == 'Where does Sally think the marble is?')]"
   ]
  },
  {
   "cell_type": "code",
   "execution_count": 84,
   "id": "20a228d1",
   "metadata": {},
   "outputs": [
    {
     "data": {
      "text/plain": [
       "(1, 1)"
      ]
     },
     "execution_count": 84,
     "metadata": {},
     "output_type": "execute_result"
    },
    {
     "name": "stdout",
     "output_type": "stream",
     "text": [
      "Emma entered the garden.\n",
      "Anne entered the garden.\n",
      "Anne put the marble into the basket.\n",
      "Anne exited the garden.\n",
      "Sally entered the garden.\n",
      "Sally moved the marble to the box.\n",
      "Sally exited the garden.\n",
      "Emma moved the marble to the basket.\n",
      "Emma exited the garden.\n",
      "anthropic/claude-sonnet-4\n"
     ]
    },
    {
     "data": {
      "text/plain": [
       "[ModelResponse(model='anthropic/claude-sonnet-4', question='Where does Anne think the marble is?', expected='basket', answer='In the basket', is_correct=True, order=1, obj='marble', latency_sec=3.317863568663597, retries=0),\n",
       " ModelResponse(model='anthropic/claude-sonnet-4', question='Where does Emma think the marble is?', expected='basket', answer='In the basket', is_correct=True, order=1, obj='marble', latency_sec=2.8163426965475082, retries=0),\n",
       " ModelResponse(model='anthropic/claude-sonnet-4', question='Where does Sally think the marble is?', expected='box', answer='In the box.', is_correct=True, order=1, obj='marble', latency_sec=2.9623395614326, retries=0),\n",
       " ModelResponse(model='anthropic/claude-sonnet-4', question='Where does Anne think Emma thinks the marble is?', expected='basket', answer='In the basket.', is_correct=True, order=2, obj='marble', latency_sec=3.3918704725801945, retries=0),\n",
       " ModelResponse(model='anthropic/claude-sonnet-4', question='Where does Emma think Sally thinks the marble is?', expected='box', answer='In the box.', is_correct=True, order=2, obj='marble', latency_sec=3.916731368750334, retries=0),\n",
       " ModelResponse(model='anthropic/claude-sonnet-4', question='Where does Sally think Anne thinks the marble is?', expected='basket', answer='In the basket.', is_correct=True, order=2, obj='marble', latency_sec=2.7693508565425873, retries=0),\n",
       " ModelResponse(model='anthropic/claude-sonnet-4', question='Where does Sally think Emma thinks the marble is?', expected='box', answer='In the box', is_correct=True, order=2, obj='marble', latency_sec=3.2321219742298126, retries=0)]"
      ]
     },
     "execution_count": 84,
     "metadata": {},
     "output_type": "execute_result"
    },
    {
     "name": "stdout",
     "output_type": "stream",
     "text": [
      "anthropic/claude-sonnet-4.5\n"
     ]
    },
    {
     "data": {
      "text/plain": [
       "[ModelResponse(model='anthropic/claude-sonnet-4.5', question='Where does Anne think the marble is?', expected='basket', answer='basket', is_correct=True, order=1, obj='marble', latency_sec=2.584512896835804, retries=0),\n",
       " ModelResponse(model='anthropic/claude-sonnet-4.5', question='Where does Emma think the marble is?', expected='basket', answer='basket', is_correct=True, order=1, obj='marble', latency_sec=2.8413404896855354, retries=0),\n",
       " ModelResponse(model='anthropic/claude-sonnet-4.5', question='Where does Sally think the marble is?', expected='box', answer='box', is_correct=True, order=1, obj='marble', latency_sec=2.7293930016458035, retries=0),\n",
       " ModelResponse(model='anthropic/claude-sonnet-4.5', question='Where does Anne think Emma thinks the marble is?', expected='basket', answer='basket', is_correct=True, order=2, obj='marble', latency_sec=2.293307427316904, retries=0),\n",
       " ModelResponse(model='anthropic/claude-sonnet-4.5', question='Where does Emma think Sally thinks the marble is?', expected='box', answer='box', is_correct=True, order=2, obj='marble', latency_sec=2.8921479023993015, retries=0),\n",
       " ModelResponse(model='anthropic/claude-sonnet-4.5', question='Where does Sally think Anne thinks the marble is?', expected='basket', answer='basket', is_correct=True, order=2, obj='marble', latency_sec=2.2509834431111813, retries=0),\n",
       " ModelResponse(model='anthropic/claude-sonnet-4.5', question='Where does Sally think Emma thinks the marble is?', expected='box', answer='box', is_correct=True, order=2, obj='marble', latency_sec=3.1247034333646297, retries=0)]"
      ]
     },
     "execution_count": 84,
     "metadata": {},
     "output_type": "execute_result"
    },
    {
     "name": "stdout",
     "output_type": "stream",
     "text": [
      "openai/gpt-5\n"
     ]
    },
    {
     "data": {
      "text/plain": [
       "[ModelResponse(model='openai/gpt-5', question='Where does Anne think the marble is?', expected='basket', answer='basket', is_correct=True, order=1, obj='marble', latency_sec=4.2958441413939, retries=0),\n",
       " ModelResponse(model='openai/gpt-5', question='Where does Emma think the marble is?', expected='basket', answer='the basket', is_correct=True, order=1, obj='marble', latency_sec=6.205942522734404, retries=0),\n",
       " ModelResponse(model='openai/gpt-5', question='Where does Sally think the marble is?', expected='box', answer='the box', is_correct=True, order=1, obj='marble', latency_sec=6.636925030499697, retries=0),\n",
       " ModelResponse(model='openai/gpt-5', question='Where does Anne think Emma thinks the marble is?', expected='basket', answer='basket', is_correct=True, order=2, obj='marble', latency_sec=9.769223533570766, retries=0),\n",
       " ModelResponse(model='openai/gpt-5', question='Where does Emma think Sally thinks the marble is?', expected='box', answer='the box', is_correct=True, order=2, obj='marble', latency_sec=6.674934528768063, retries=0),\n",
       " ModelResponse(model='openai/gpt-5', question='Where does Sally think Anne thinks the marble is?', expected='basket', answer='Basket', is_correct=True, order=2, obj='marble', latency_sec=21.116192173212767, retries=0),\n",
       " ModelResponse(model='openai/gpt-5', question='Where does Sally think Emma thinks the marble is?', expected='box', answer='the box', is_correct=True, order=2, obj='marble', latency_sec=7.6496973522007465, retries=0)]"
      ]
     },
     "execution_count": 84,
     "metadata": {},
     "output_type": "execute_result"
    }
   ],
   "source": [
    "engine.n_peeks, engine.n_distractions\n",
    "print(story)\n",
    "for k, v in results.items():\n",
    "    print(k)\n",
    "    v"
   ]
  },
  {
   "cell_type": "code",
   "execution_count": 177,
   "id": "a95e805f",
   "metadata": {},
   "outputs": [
    {
     "name": "stdout",
     "output_type": "stream",
     "text": [
      "\n",
      "break at step 39/40\n",
      "Benjamin entered the room.\n",
      "Sally entered the room.\n",
      "Emma entered the room.\n",
      "Aiden entered the room.\n",
      "Sally put the marble into the cabinet.\n",
      "Emma put the ball into the basket.\n",
      "Benjamin moved the marble to the basket.\n",
      "Isabella entered the room.\n",
      "Aiden moved the marble to the box.\n",
      "Aiden moved the marble to the cabinet.\n",
      "Isabella moved the marble to the basket.\n",
      "Emma moved the ball to the cabinet.\n",
      "Emma moved the ball to the basket.\n",
      "Sally moved the marble to the box.\n",
      "Sally moved the marble to the cabinet.\n",
      "Isabella moved the marble to the box.\n",
      "Emma moved the marble to the basket.\n",
      "Benjamin moved the marble to the box.\n",
      "Sally moved the marble to the cabinet.\n",
      "Sally exited the room.\n",
      "Emma moved the ball to the cabinet.\n",
      "Aiden moved the marble to the box.\n",
      "Isabella moved the marble to the basket.\n",
      "Emma moved the ball to the basket.\n",
      "Aiden moved the marble to the box.\n",
      "Isabella exited the room.\n",
      "Benjamin moved the ball to the box.\n",
      "Emma moved the ball to the basket.\n",
      "Benjamin moved the ball to the cabinet.\n",
      "Emma moved the marble to the basket.\n",
      "Aiden moved the ball to the box.\n",
      "Emma moved the marble to the cabinet.\n",
      "Anne entered the room.\n",
      "Benjamin moved the ball to the basket.\n",
      "Benjamin exited the room.\n",
      "Anne moved the ball to the box.\n",
      "Anne moved the ball to the cabinet.\n",
      "Emma exited the room.\n",
      "Anne exited the room.\n",
      "Aiden moved the marble to the basket.\n",
      "Aiden moved the ball to the box.\n",
      "Aiden moved the ball to the basket.\n",
      "Aiden moved the marble to the cabinet.\n",
      "Aiden moved the marble to the basket.\n",
      "Aiden exited the room.\n"
     ]
    },
    {
     "data": {
      "text/plain": [
       "{1: defaultdict(list,\n",
       "             {'ball': [('Where does Sally think the ball is?', 'basket'),\n",
       "               ('Where does Anne think the ball is?', 'cabinet'),\n",
       "               ('Where does Emma think the ball is?', 'cabinet'),\n",
       "               ('Where does Benjamin think the ball is?', 'basket'),\n",
       "               ('Where does Aiden think the ball is?', 'basket'),\n",
       "               ('Where does Isabella think the ball is?', 'basket')],\n",
       "              'marble': [('Where does Sally think the marble is?', 'cabinet'),\n",
       "               ('Where does Emma think the marble is?', 'cabinet'),\n",
       "               ('Where does Benjamin think the marble is?', 'cabinet'),\n",
       "               ('Where does Aiden think the marble is?', 'basket'),\n",
       "               ('Where does Isabella think the marble is?', 'box')]}),\n",
       " 2: defaultdict(list,\n",
       "             {'ball': [('Where does Sally think Emma thinks the ball is?',\n",
       "                'basket'),\n",
       "               ('Where does Sally think Benjamin thinks the ball is?',\n",
       "                'basket'),\n",
       "               ('Where does Sally think Aiden thinks the ball is?', 'basket'),\n",
       "               ('Where does Sally think Isabella thinks the ball is?',\n",
       "                'basket'),\n",
       "               ('Where does Anne think Emma thinks the ball is?', 'cabinet'),\n",
       "               ('Where does Anne think Benjamin thinks the ball is?',\n",
       "                'basket'),\n",
       "               ('Where does Anne think Aiden thinks the ball is?', 'cabinet'),\n",
       "               ('Where does Emma think Sally thinks the ball is?', 'basket'),\n",
       "               ('Where does Emma think Anne thinks the ball is?', 'cabinet'),\n",
       "               ('Where does Emma think Benjamin thinks the ball is?',\n",
       "                'basket'),\n",
       "               ('Where does Emma think Aiden thinks the ball is?', 'cabinet'),\n",
       "               ('Where does Emma think Isabella thinks the ball is?',\n",
       "                'basket'),\n",
       "               ('Where does Benjamin think Sally thinks the ball is?',\n",
       "                'basket'),\n",
       "               ('Where does Benjamin think Anne thinks the ball is?',\n",
       "                'basket'),\n",
       "               ('Where does Benjamin think Emma thinks the ball is?',\n",
       "                'basket'),\n",
       "               ('Where does Benjamin think Aiden thinks the ball is?',\n",
       "                'basket'),\n",
       "               ('Where does Benjamin think Isabella thinks the ball is?',\n",
       "                'basket'),\n",
       "               ('Where does Aiden think Sally thinks the ball is?', 'basket'),\n",
       "               ('Where does Aiden think Anne thinks the ball is?', 'cabinet'),\n",
       "               ('Where does Aiden think Emma thinks the ball is?', 'cabinet'),\n",
       "               ('Where does Aiden think Benjamin thinks the ball is?',\n",
       "                'basket'),\n",
       "               ('Where does Aiden think Isabella thinks the ball is?',\n",
       "                'basket'),\n",
       "               ('Where does Isabella think Sally thinks the ball is?',\n",
       "                'basket'),\n",
       "               ('Where does Isabella think Emma thinks the ball is?',\n",
       "                'basket'),\n",
       "               ('Where does Isabella think Benjamin thinks the ball is?',\n",
       "                'basket'),\n",
       "               ('Where does Isabella think Aiden thinks the ball is?',\n",
       "                'basket')],\n",
       "              'marble': [('Where does Sally think Emma thinks the marble is?',\n",
       "                'cabinet'),\n",
       "               ('Where does Sally think Benjamin thinks the marble is?',\n",
       "                'cabinet'),\n",
       "               ('Where does Sally think Aiden thinks the marble is?',\n",
       "                'cabinet'),\n",
       "               ('Where does Sally think Isabella thinks the marble is?',\n",
       "                'cabinet'),\n",
       "               ('Where does Emma think Sally thinks the marble is?',\n",
       "                'cabinet'),\n",
       "               ('Where does Emma think Benjamin thinks the marble is?',\n",
       "                'cabinet'),\n",
       "               ('Where does Emma think Aiden thinks the marble is?',\n",
       "                'cabinet'),\n",
       "               ('Where does Emma think Isabella thinks the marble is?', 'box'),\n",
       "               ('Where does Benjamin think Sally thinks the marble is?',\n",
       "                'cabinet'),\n",
       "               ('Where does Benjamin think Emma thinks the marble is?',\n",
       "                'cabinet'),\n",
       "               ('Where does Benjamin think Aiden thinks the marble is?',\n",
       "                'cabinet'),\n",
       "               ('Where does Benjamin think Isabella thinks the marble is?',\n",
       "                'box'),\n",
       "               ('Where does Aiden think Sally thinks the marble is?',\n",
       "                'cabinet'),\n",
       "               ('Where does Aiden think Emma thinks the marble is?',\n",
       "                'cabinet'),\n",
       "               ('Where does Aiden think Benjamin thinks the marble is?',\n",
       "                'cabinet'),\n",
       "               ('Where does Aiden think Isabella thinks the marble is?',\n",
       "                'box'),\n",
       "               ('Where does Isabella think Sally thinks the marble is?',\n",
       "                'cabinet'),\n",
       "               ('Where does Isabella think Emma thinks the marble is?', 'box'),\n",
       "               ('Where does Isabella think Benjamin thinks the marble is?',\n",
       "                'box'),\n",
       "               ('Where does Isabella think Aiden thinks the marble is?',\n",
       "                'box')]})}"
      ]
     },
     "execution_count": 177,
     "metadata": {},
     "output_type": "execute_result"
    }
   ],
   "source": [
    "eng = Engine(agents=agents, rooms=rooms,\n",
    "            peek_prob=0., distracted_prob=0., exit_without_move_prob=0.2)\n",
    "print(eng.generate_story(steps=40))\n",
    "QAs = eng.generate_QAs(); QAs"
   ]
  },
  {
   "cell_type": "code",
   "execution_count": null,
   "id": "e2956278",
   "metadata": {},
   "outputs": [
    {
     "data": {
      "text/plain": [
       "'blue crate'"
      ]
     },
     "execution_count": 157,
     "metadata": {},
     "output_type": "execute_result"
    }
   ],
   "source": [
    "events = []\n",
    "observers = Set()\n",
    "# Line 1: Emma, Charlotte, Benjamin, Aiden and Isabella entered the room.\n",
    "observers.add(Observer('Emma'))\n",
    "observers.add(Observer('Charlotte'))\n",
    "observers.add(Observer('Benjamin'))\n",
    "observers.add(Observer('Aiden'))\n",
    "observers.add(Observer('Isabella'))\n",
    "# Line 2: The pear is in the red treasure chest.\n",
    "events.append(MoveEvent(observers=deepcopy(observers), agent='System', object='pear', container='red treasure chest'))\n",
    "# Line 3: Emma moved the pear to the blue suitcase.\n",
    "events.append(MoveEvent(observers=deepcopy(observers), agent='Emma', object='pear', container='blue suitcase'))\n",
    "# Line 4: Charlotte exited the room.\n",
    "observers.remove_by_name('Charlotte')\n",
    "# Line 5: Benjamin lost his watch.\n",
    "events.append(OtherEvent(observers=deepcopy(observers), agent='Benjamin', object='his watch', verb='lost'))\n",
    "# Other event: Benjamin lost his watch\n",
    "# Line 6: Benjamin exited the room.\n",
    "observers.remove_by_name('Benjamin')\n",
    "# Line 7: Aiden moved the pear to the blue crate.\n",
    "events.append(MoveEvent(observers=deepcopy(observers), agent='Aiden', object='pear', container='blue crate'))\n",
    "# Line 8: Emma exited the room.\n",
    "observers.remove_by_name('Emma')\n",
    "# Line 9: Aiden exited the room.\n",
    "observers.remove_by_name('Aiden')\n",
    "# Line 10: Isabella moved the pear to the red treasure chest.\n",
    "events.append(MoveEvent(observers=deepcopy(observers), agent='Isabella', object='pear', container='red treasure chest'))\n",
    "# Line 11: Isabella likes the red box.\n",
    "events.append(OtherEvent(observers=deepcopy(observers), agent='Isabella', object='the red box', verb='likes'))\n",
    "# Other event: Isabella likes the red box\n",
    "# Line 12: Isabella exited the room.\n",
    "observers.remove_by_name('Isabella')\n",
    "# Question: Where does Emma think the pear is?\n",
    "safe_get([event for event in events if event.observers.has('Emma', actual=True) and event.object == 'pear'], -1, 'container')"
   ]
  },
  {
   "cell_type": "code",
   "execution_count": null,
   "id": "ba16e16a",
   "metadata": {},
   "outputs": [],
   "source": [
    "# THEORY OF MIND QUESTION ANSWERING\n",
    "\n",
    "def answer_tom_questions(events, object_name='pear'):\n",
    "    \"\"\"Answer common Theory of Mind questions based on parsed events\"\"\"\n",
    "    \n",
    "    print(\"=== THEORY OF MIND ANALYSIS ===\")\n",
    "    \n",
    "    # Get all unique observers who were ever present\n",
    "    all_observers = set()\n",
    "    for event in events:\n",
    "        all_observers.update(obs.name for obs in event.observers)\n",
    "    \n",
    "    print(f\"Object being tracked: {object_name}\")\n",
    "    print(f\"All observers in story: {list(all_observers)}\")\n",
    "    print()\n",
    "    \n",
    "    # Question 1: Where is the object really?\n",
    "    real_location = safe_get([event for event in events if event.object == object_name], \n",
    "                           -1, 'container', 'Unknown')\n",
    "    print(f\"1. Where is the {object_name} really? → {real_location}\")\n",
    "    \n",
    "    # Question 2-N: Where does each observer think the object is?\n",
    "    for observer in sorted(all_observers):\n",
    "        belief = safe_get([event for event in events \n",
    "                          if event.observers.has(observer, actual=True) and event.object == object_name], \n",
    "                         -1, 'container', 'Unknown')\n",
    "        print(f\"2. Where does {observer} think the {object_name} is? → {belief}\")\n",
    "    \n",
    "    print()\n",
    "    \n",
    "    # Question 3: Second-order beliefs (X thinks Y thinks...)\n",
    "    print(\"=== SECOND-ORDER BELIEFS ===\")\n",
    "    observer_list = sorted(all_observers)\n",
    "    for i, obs1 in enumerate(observer_list):\n",
    "        for j, obs2 in enumerate(observer_list):\n",
    "            if i != j:  # Don't ask \"X thinks X thinks...\"\n",
    "                # Find last event where obs1 was actually present AND obs2 was perceived by others\n",
    "                shared_belief = safe_get([event for event in events \n",
    "                                        if event.observers.has(obs1, actual=True) and \n",
    "                                           event.observers.has(obs2, perceived_by_others=True) and \n",
    "                                           event.object == object_name], \n",
    "                                       -1, 'container', 'Unknown')\n",
    "                print(f\"3. Where does {obs1} think {obs2} thinks the {object_name} is? → {shared_belief}\")\n",
    "    \n",
    "    return {\n",
    "        'real_location': real_location,\n",
    "        'first_order_beliefs': {obs: safe_get([event for event in events \n",
    "                                             if event.observers.has(obs, actual=True) and event.object == object_name], \n",
    "                                            -1, 'container', 'Unknown') \n",
    "                               for obs in all_observers}\n",
    "    }\n",
    "\n",
    "# Answer questions about the parsed story\n",
    "results = answer_tom_questions(events, 'pear')\n"
   ]
  },
  {
   "cell_type": "code",
   "execution_count": null,
   "id": "b6640ada",
   "metadata": {},
   "outputs": [],
   "source": [
    "d = json.load(open('Hi-ToM_data.json'))['data']\n",
    "df = pd.DataFrame(d)\n",
    "df.head()"
   ]
  },
  {
   "cell_type": "code",
   "execution_count": 10,
   "id": "affbe391",
   "metadata": {},
   "outputs": [
    {
     "data": {
      "text/plain": [
       "0    240\n",
       "1    240\n",
       "2    240\n",
       "3    240\n",
       "4    240\n",
       "Name: question_order, dtype: int64"
      ]
     },
     "execution_count": 10,
     "metadata": {},
     "output_type": "execute_result"
    }
   ],
   "source": [
    "df['question_order'].value_counts().sort_index()"
   ]
  },
  {
   "cell_type": "code",
   "execution_count": 261,
   "id": "f838787d",
   "metadata": {},
   "outputs": [
    {
     "name": "stdout",
     "output_type": "stream",
     "text": [
      "     question_order  \\\n",
      "237               1   \n",
      "276               3   \n",
      "633               1   \n",
      "158               2   \n",
      "423               1   \n",
      "\n",
      "                                                              question  \n",
      "237                     Where does Elizabeth really think the lime is?  \n",
      "276  Where does Jack think Jackson thinks Emma thinks the eggplant is?  \n",
      "633                     Where does Mila really think the tangerine is?  \n",
      "158              Where does Nathan think Jackson thinks the tomato is?  \n",
      "423                    Where does Isabella really think the potato is?  \n"
     ]
    }
   ],
   "source": [
    "# Show full contents only for this cell (using context manager)\n",
    "with pd.option_context('display.max_rows', None, \n",
    "                       'display.max_columns', None, \n",
    "                       'display.width', None, \n",
    "                       'display.max_colwidth', None):\n",
    "    # Display all question_order and story data\n",
    "    print(sample[['question_order', 'question']])"
   ]
  },
  {
   "cell_type": "code",
   "execution_count": 11,
   "id": "0b345744",
   "metadata": {},
   "outputs": [],
   "source": [
    "sample = df[df['question_order'] > 0].sample(5)"
   ]
  },
  {
   "cell_type": "code",
   "execution_count": 13,
   "id": "185d4d15",
   "metadata": {},
   "outputs": [
    {
     "data": {
      "text/html": [
       "<div>\n",
       "<style scoped>\n",
       "    .dataframe tbody tr th:only-of-type {\n",
       "        vertical-align: middle;\n",
       "    }\n",
       "\n",
       "    .dataframe tbody tr th {\n",
       "        vertical-align: top;\n",
       "    }\n",
       "\n",
       "    .dataframe thead th {\n",
       "        text-align: right;\n",
       "    }\n",
       "</style>\n",
       "<table border=\"1\" class=\"dataframe\">\n",
       "  <thead>\n",
       "    <tr style=\"text-align: right;\">\n",
       "      <th></th>\n",
       "      <th>question_order</th>\n",
       "      <th>story</th>\n",
       "    </tr>\n",
       "  </thead>\n",
       "  <tbody>\n",
       "    <tr>\n",
       "      <th>237</th>\n",
       "      <td>1</td>\n",
       "      <td>1 Elizabeth, Alexander, Nathan, Owen and Jacks...</td>\n",
       "    </tr>\n",
       "    <tr>\n",
       "      <th>276</th>\n",
       "      <td>3</td>\n",
       "      <td>1 Emily, Avery, Emma, Jack and Jackson entered...</td>\n",
       "    </tr>\n",
       "    <tr>\n",
       "      <th>633</th>\n",
       "      <td>1</td>\n",
       "      <td>1 Mila, Chloe, Amelia, Benjamin and Elizabeth ...</td>\n",
       "    </tr>\n",
       "    <tr>\n",
       "      <th>158</th>\n",
       "      <td>2</td>\n",
       "      <td>1 Sophia, Jackson, Amelia, Charlotte and Natha...</td>\n",
       "    </tr>\n",
       "    <tr>\n",
       "      <th>423</th>\n",
       "      <td>1</td>\n",
       "      <td>Read the following story and answer the multip...</td>\n",
       "    </tr>\n",
       "  </tbody>\n",
       "</table>\n",
       "</div>"
      ],
      "text/plain": [
       "     question_order                                              story\n",
       "237               1  1 Elizabeth, Alexander, Nathan, Owen and Jacks...\n",
       "276               3  1 Emily, Avery, Emma, Jack and Jackson entered...\n",
       "633               1  1 Mila, Chloe, Amelia, Benjamin and Elizabeth ...\n",
       "158               2  1 Sophia, Jackson, Amelia, Charlotte and Natha...\n",
       "423               1  Read the following story and answer the multip..."
      ]
     },
     "execution_count": 13,
     "metadata": {},
     "output_type": "execute_result"
    }
   ],
   "source": [
    "sample[['question_order', 'story']]"
   ]
  },
  {
   "cell_type": "code",
   "execution_count": 262,
   "id": "29757c63",
   "metadata": {},
   "outputs": [
    {
     "name": "stdout",
     "output_type": "stream",
     "text": [
      "\n",
      "--- Question order 1 ---\n",
      "1 Elizabeth, Alexander, Nathan, Owen and Jackson entered the cellar.\n",
      "2 Jackson lost his watch.\n",
      "3 The lime is in the blue_crate.\n",
      "4 Elizabeth moved the lime to the green_pantry.\n",
      "5 Elizabeth exited the cellar.\n",
      "6 Nathan saw a monkey.\n",
      "7 Alexander made no movements and stayed in the cellar for 1 minute.\n",
      "8 Alexander exited the cellar.\n",
      "9 Nathan moved the lime to the green_basket.\n",
      "10 Nathan exited the cellar.\n",
      "11 Owen moved the lime to the red_box.\n",
      "12 Owen exited the cellar.\n",
      "13 Jackson moved the lime to the blue_crate.\n",
      "14 Jackson exited the cellar.\n",
      "15 Elizabeth, Alexander, Nathan, Owen and Jackson entered the waiting_room.\n",
      "16 Nathan, Jackson and Elizabeth entered the workshop.\n",
      "17 The sweet_potato is in the blue_suitcase.\n",
      "18 Nathan made no movements and stayed in the workshop for 1 minute.\n",
      "19 Nathan exited the workshop.\n",
      "20 Jackson made no movements and stayed in the workshop for 1 minute.\n",
      "21 Jackson exited the workshop.\n",
      "22 Elizabeth made no movements and stayed in the workshop for 1 minute.\n",
      "23 Elizabeth exited the workshop.\n",
      "24 Nathan, Jackson and Elizabeth entered the waiting_room.\n",
      "25 Elizabeth, Owen, Alexander and Nathan entered the workshop.\n",
      "26 The plum is in the green_box.\n",
      "27 Elizabeth made no movements and stayed in the workshop for 1 minute.\n",
      "28 Elizabeth exited the workshop.\n",
      "29 Owen moved the plum to the red_basket.\n",
      "30 Jackson likes the blue_suitcase.\n",
      "31 Owen exited the workshop.\n",
      "32 Alexander lost his phone.\n",
      "33 Alexander moved the plum to the red_drawer.\n",
      "34 Alexander exited the workshop.\n",
      "35 Nathan moved the plum to the green_cupboard.\n",
      "36 Nathan exited the workshop.\n",
      "37 Elizabeth, Owen, Alexander and Nathan entered the waiting_room.\n",
      "\n",
      "\n",
      "--------------------\n",
      "Where does Elizabeth really think the lime is?\n",
      "--------------------------------------------------\n",
      "\n",
      "--- Question order 3 ---\n",
      "1 Emily, Avery, Emma, Jack and Jackson entered the garage.\n",
      "2 The eggplant is in the green_pantry.\n",
      "3 Emily moved the eggplant to the blue_drawer.\n",
      "4 Emily exited the garage.\n",
      "5 Avery made no movements and stayed in the garage for 1 minute.\n",
      "6 Avery exited the garage.\n",
      "7 Emma moved the eggplant to the green_box.\n",
      "8 Emma exited the garage.\n",
      "9 Jack made no movements and stayed in the garage for 1 minute.\n",
      "10 Jack exited the garage.\n",
      "11 Jackson made no movements and stayed in the garage for 1 minute.\n",
      "12 Jackson exited the garage.\n",
      "13 Emily, Avery, Emma, Jack and Jackson entered the waiting_room.\n",
      "14 Emma, Emily and Jack entered the garage.\n",
      "15 The eggplant is in the green_box.\n",
      "16 Emma made no movements and stayed in the garage for 1 minute.\n",
      "17 Emma exited the garage.\n",
      "18 Emily moved the eggplant to the green_bottle.\n",
      "19 Emily exited the garage.\n",
      "20 Jack moved the eggplant to the green_pantry.\n",
      "21 Jack exited the garage.\n",
      "22 Emma, Emily and Jack entered the waiting_room.\n",
      "23 Emily, Avery, Jack and Emma entered the garage.\n",
      "24 The cherry is in the blue_drawer.\n",
      "25 Emily moved the cherry to the green_box.\n",
      "26 Jack likes the green_envelope.\n",
      "27 Emily exited the garage.\n",
      "28 Avery moved the cherry to the green_pantry.\n",
      "29 Avery exited the garage.\n",
      "30 Jack moved the cherry to the blue_cupboard.\n",
      "31 Emily saw a monkey.\n",
      "32 Jack exited the garage.\n",
      "33 Emma moved the cherry to the green_bottle.\n",
      "34 Emma exited the garage.\n",
      "35 Emily, Avery, Jack and Emma entered the waiting_room.\n",
      "\n",
      "\n",
      "--------------------\n",
      "Where does Jack think Jackson thinks Emma thinks the eggplant is?\n",
      "--------------------------------------------------\n",
      "\n",
      "--- Question order 1 ---\n",
      "1 Mila, Chloe, Amelia, Benjamin and Elizabeth entered the attic.\n",
      "2 The tangerine is in the green_treasure_chest.\n",
      "3 Mila made no movements and stayed in the attic for 1 minute.\n",
      "4 Mila exited the attic.\n",
      "5 Chloe made no movements and stayed in the attic for 1 minute.\n",
      "6 Chloe exited the attic.\n",
      "7 Amelia made no movements and stayed in the attic for 1 minute.\n",
      "8 Chloe lost his watch.\n",
      "9 Amelia exited the attic.\n",
      "10 Benjamin moved the tangerine to the blue_pantry.\n",
      "11 Benjamin exited the attic.\n",
      "12 Elizabeth moved the tangerine to the green_treasure_chest.\n",
      "13 Elizabeth exited the attic.\n",
      "14 Mila, Chloe, Amelia, Benjamin and Elizabeth entered the waiting_room.\n",
      "15 Amelia privately told Mila that the tangerine is in the red_box.\n",
      "16 Chloe privately told Benjamin that the tangerine is in the green_treasure_chest.\n",
      "\n",
      "\n",
      "--------------------\n",
      "Where does Mila really think the tangerine is?\n",
      "--------------------------------------------------\n",
      "\n",
      "--- Question order 2 ---\n",
      "1 Sophia, Jackson, Amelia, Charlotte and Nathan entered the laundry.\n",
      "2 The tomato is in the blue_container.\n",
      "3 Sophia moved the tomato to the blue_cupboard.\n",
      "4 Sophia exited the laundry.\n",
      "5 Jackson moved the tomato to the blue_crate.\n",
      "6 Jackson exited the laundry.\n",
      "7 Amelia made no movements and stayed in the laundry for 1 minute.\n",
      "8 Amelia exited the laundry.\n",
      "9 Charlotte made no movements and stayed in the laundry for 1 minute.\n",
      "10 Charlotte exited the laundry.\n",
      "11 Nathan moved the tomato to the blue_container.\n",
      "12 Nathan exited the laundry.\n",
      "13 Sophia, Jackson, Amelia, Charlotte and Nathan entered the waiting_room.\n",
      "14 Nathan, Jackson and Amelia entered the hall.\n",
      "15 The onion is in the blue_treasure_chest.\n",
      "16 Nathan made no movements and stayed in the hall for 1 minute.\n",
      "17 Nathan exited the hall.\n",
      "18 Jackson moved the onion to the red_envelope.\n",
      "19 Jackson exited the hall.\n",
      "20 Amelia moved the onion to the green_cupboard.\n",
      "21 Jackson saw a mouse.\n",
      "22 Amelia exited the hall.\n",
      "23 Jackson lost his phone.\n",
      "24 Nathan, Jackson and Amelia entered the waiting_room.\n",
      "\n",
      "\n",
      "--------------------\n",
      "Where does Nathan think Jackson thinks the tomato is?\n",
      "--------------------------------------------------\n",
      "\n",
      "--- Question order 1 ---\n",
      "Read the following story and answer the multiple-choice question. Please provide answer without explanations.\n",
      "1 Evelyn, Chloe, Mila, Isabella and Jacob entered the crawlspace.\n",
      "2 The potato is in the blue_drawer.\n",
      "3 Evelyn made no movements and stayed in the crawlspace for 1 minute.\n",
      "4 Evelyn exited the crawlspace.\n",
      "5 Chloe made no movements and stayed in the crawlspace for 1 minute.\n",
      "6 Chloe exited the crawlspace.\n",
      "7 Mila moved the potato to the red_basket.\n",
      "8 Mila exited the crawlspace.\n",
      "9 Isabella moved the potato to the green_bottle.\n",
      "10 Isabella exited the crawlspace.\n",
      "11 Jacob moved the potato to the blue_drawer.\n",
      "12 Jacob exited the crawlspace.\n",
      "13 Evelyn, Chloe, Mila, Isabella and Jacob entered the waiting_room.\n",
      "14 Evelyn, Mila and Jacob entered the closet.\n",
      "15 The watermelon is in the green_crate.\n",
      "16 Evelyn moved the watermelon to the blue_suitcase.\n",
      "17 Evelyn exited the closet.\n",
      "18 Mila moved the watermelon to the red_drawer.\n",
      "19 Mila exited the closet.\n",
      "20 Jacob made no movements and stayed in the closet for 1 minute.\n",
      "21 Jacob exited the closet.\n",
      "22 Evelyn, Mila and Jacob entered the waiting_room.\n",
      "\n",
      "\n",
      "--------------------\n",
      "Where does Isabella really think the potato is?\n",
      "--------------------------------------------------\n"
     ]
    }
   ],
   "source": [
    "for q_order, story, question in zip(sample['question_order'], sample['story'], sample['question']):\n",
    "    print(f\"\\n--- Question order {q_order} ---\")\n",
    "    print(story)\n",
    "    print(\"-\" * 20)\n",
    "    print(question)\n",
    "    print(\"-\" * 50)"
   ]
  },
  {
   "cell_type": "code",
   "execution_count": null,
   "id": "15bbd13d",
   "metadata": {},
   "outputs": [
    {
     "data": {
      "text/plain": [
       "{Observer(name='Sally', actual=True, perceived_by_others=True)}"
      ]
     },
     "execution_count": 188,
     "metadata": {},
     "output_type": "execute_result"
    },
    {
     "data": {
      "text/plain": [
       "{Observer(name='Anne', actual=True, perceived_by_others=True),\n",
       " Observer(name='Sally', actual=True, perceived_by_others=True)}"
      ]
     },
     "execution_count": 188,
     "metadata": {},
     "output_type": "execute_result"
    },
    {
     "data": {
      "text/plain": [
       "{Observer(name='Anne', actual=True, perceived_by_others=True),\n",
       " Observer(name='Emma', actual=True, perceived_by_others=True),\n",
       " Observer(name='Sally', actual=True, perceived_by_others=True)}"
      ]
     },
     "execution_count": 188,
     "metadata": {},
     "output_type": "execute_result"
    },
    {
     "data": {
      "text/plain": [
       "{Observer(name='Anne', actual=True, perceived_by_others=True),\n",
       " Observer(name='Emma', actual=True, perceived_by_others=True)}"
      ]
     },
     "execution_count": 188,
     "metadata": {},
     "output_type": "execute_result"
    },
    {
     "data": {
      "text/plain": [
       "{Observer(name='Emma', actual=True, perceived_by_others=True)}"
      ]
     },
     "execution_count": 188,
     "metadata": {},
     "output_type": "execute_result"
    },
    {
     "data": {
      "text/plain": [
       "'box'"
      ]
     },
     "execution_count": 188,
     "metadata": {},
     "output_type": "execute_result"
    },
    {
     "data": {
      "text/plain": [
       "'box'"
      ]
     },
     "execution_count": 188,
     "metadata": {},
     "output_type": "execute_result"
    },
    {
     "data": {
      "text/plain": [
       "'box'"
      ]
     },
     "execution_count": 188,
     "metadata": {},
     "output_type": "execute_result"
    },
    {
     "data": {
      "text/plain": [
       "'basket'"
      ]
     },
     "execution_count": 188,
     "metadata": {},
     "output_type": "execute_result"
    },
    {
     "data": {
      "text/plain": [
       "'basket'"
      ]
     },
     "execution_count": 188,
     "metadata": {},
     "output_type": "execute_result"
    },
    {
     "data": {
      "text/plain": [
       "'box'"
      ]
     },
     "execution_count": 188,
     "metadata": {},
     "output_type": "execute_result"
    }
   ],
   "source": [
    "story = '''Emma, Charlotte, Benjamin, Aiden and Isabella entered the room.\n",
    "The pear is in the red treasure chest.\n",
    "Emma moved the pear to the blue suitcase.\n",
    "Charlotte exited the room.\n",
    "Benjamin lost his watch.\n",
    "Benjamin exited the room.\n",
    "Aiden moved the pear to the blue crate.\n",
    "Emma exited the room.\n",
    "Aiden exited the room.\n",
    "Isabella moved the pear to the red treasure chest.\n",
    "Isabella likes the red box.\n",
    "Isabella exited the room.'''\n",
    "\n",
    "# story in code\n",
    "events: List[Event] = []\n",
    "observers = Set()\n",
    "observers.add(Observer('Sally'))  # Sally entered\n",
    "observers.add(Observer('Anne'))   # Anne entered\n",
    "observers.add(Observer('Emma'))   # Emma entered\n",
    "# Sally moved the marble to the basket\n",
    "events.append(MoveEvent(observers=deepcopy(observers), agent='Sally', object='marble', container='basket'))\n",
    "observers.remove_by_name('Sally') # Sally left\n",
    "# Anne moved the marble to the box. During this action,\n",
    "# Emma was distracted and did not notice what happened,\n",
    "# and Sally peeked from outside.\n",
    "events.append(MoveEvent(observers=deepcopy(observers)\n",
    "                        .update_by_name('Emma', actual=False) # Emma was distracted\n",
    "                        .add(Observer('Sally', perceived_by_others=False)), # Sally peeked\n",
    "                        agent='Anne', object='marble', container='box'))\n",
    "# events.append(MoveEvent(observers=deepcopy(observers), agent='Anne', object='marble', container='box'))\n",
    "# events[-1].observers.update_by_name('Emma', actual=False)  # Emma was distracted\n",
    "# events[-1].observers.add(Observer('Sally', perceived_by_others=False))  # Sally peeked\n",
    "observers.remove_by_name('Anne')  # Anne left\n",
    "\n",
    "# questions\n",
    "# Where is the marble? Box\n",
    "safe_get([event for event in events if event.object == 'marble'], index=-1, field='container')\n",
    "\n",
    "# Where does Sally think the marble is? Box\n",
    "safe_get([event for event in events if event.observers.has('Sally', actual=True) and \n",
    "          event.object == 'marble'], index=-1, field='container')\n",
    "\n",
    "# Where does Sally think Anne thinks the marble is? Box\n",
    "safe_get([event for event in events if event.observers.has('Sally', actual=True) and \n",
    "          event.observers.has('Anne', perceived_by_others=True) and \n",
    "          event.object == 'marble'], index=-1, field='container')\n",
    "\n",
    "# Where does Anne think Sally thinks the marble is? Basket\n",
    "safe_get([event for event in events if event.observers.has('Anne', actual=True) and \n",
    "          event.observers.has('Sally', perceived_by_others=True) and \n",
    "          event.object == 'marble'], index=-1, field='container')\n",
    "\n",
    "# Where does Emma think the marble is? Basket\n",
    "safe_get([event for event in events if event.observers.has('Emma', actual=True) and \n",
    "          event.object == 'marble'], index=-1, field='container')\n",
    "\n",
    "# Where does Anne think Emma thinks the marble is? Box\n",
    "safe_get([event for event in events if event.observers.has('Anne', actual=True) and \n",
    "          event.observers.has('Emma', perceived_by_others=True) and \n",
    "          event.object == 'marble'], index=-1, field='container')"
   ]
  }
 ],
 "metadata": {
  "kernelspec": {
   "display_name": "Python 3 (ipykernel)",
   "language": "python",
   "name": "python3"
  }
 },
 "nbformat": 4,
 "nbformat_minor": 5
}
